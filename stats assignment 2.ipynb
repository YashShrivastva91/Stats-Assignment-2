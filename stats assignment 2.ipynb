{
 "cells": [
  {
   "cell_type": "raw",
   "id": "bec0aa6d-25ac-4699-a7e9-40a02f7f63c7",
   "metadata": {},
   "source": [
    "Question 1: Explain the properties of the F-distribution.\n",
    "Ansn -- The F-distribution is a continuous probability distribution that arises frequently in the analysis of variance (ANOVA) and regression analysis. Its key properties are:\n",
    "1) It is positively skewed.\n",
    "2) The values are always non-negative.\n",
    "3) It depends on two degrees of freedom: d1 (numerator) and d2 (denominator).\n",
    "4) The mean of the distribution is d2/d2−2 for d2>2.\n",
    "5) As d1 and d2 increase, the F-distribution approaches a normal distribution.\n"
   ]
  },
  {
   "cell_type": "raw",
   "id": "0e7e60e7-8adb-4a43-88c5-c5c40104dc11",
   "metadata": {},
   "source": [
    "Question 2: In which types of statistical tests is the F-distribution used, and why is it appropriate for these tests?\n",
    "Ans -- The F-distribution is used in:\n",
    " -- ANOVA: To compare the variances between multiple groups and test if the means are significantly different.\n",
    " -- F-tests: To compare two sample variances.\n",
    "-- Regression analysis: To test the overall significance of the model (by comparing explained and unexplained variances).\n",
    "The F-distribution is appropriate for these tests because it compares the ratio of variances and helps test hypotheses about the equality of variances or the overall fit of a model.\n",
    "\n"
   ]
  },
  {
   "cell_type": "raw",
   "id": "aa0ca838-db68-4885-a378-5d9fe446ae1e",
   "metadata": {},
   "source": [
    "Question 3: What are the key assumptions required for conducting an F-test to compare the variances of two populations?\n",
    "Ans -- The key assumptions for an F-test are:\n",
    "1.\tIndependence: The samples must be independent of each other.\n",
    "2.\tNormality: The populations from which the samples are drawn must follow a normal distribution.\n",
    "3.\tEqual sample sizes: While not required, the F-test works better when the sample sizes are equal or nearly equal.\n",
    "\n"
   ]
  },
  {
   "cell_type": "raw",
   "id": "eb0c3624-fd2c-4899-9da1-fe2de2118e21",
   "metadata": {},
   "source": [
    "Question 4: What is the purpose of ANOVA, and how does it differ from a t-test?\n",
    "Ans -- The purpose of ANOVA (Analysis of Variance) is to compare the means of three or more groups to determine if there is a statistically significant difference between them.\n",
    "--- ANOVA compares multiple group means simultaneously by partitioning the total variance into between-group and within-group variance.\n",
    "--- T-test, on the other hand, compares the means of two groups only.\n",
    "While the t-test is appropriate for two groups, ANOVA prevents the error inflation that occurs from performing multiple t-tests."
   ]
  },
  {
   "cell_type": "raw",
   "id": "e0ad1872-38fe-441d-8536-ac86c1c61aca",
   "metadata": {},
   "source": [
    "Question 5: Explain when and why you would use a one-way ANOVA instead of multiple t-tests when comparing more than two groups.\n",
    "Ans -- You use one-way ANOVA when comparing the means of three or more groups because it:\n",
    "•\tControls for the Type I error that occurs from running multiple t-tests.\n",
    "•\tTests for significant differences among all groups simultaneously.\n",
    "•\tProvides an overall test, and if significant, post-hoc tests can be run to identify specific group differences.\n",
    "Multiple t-tests would increase the risk of false positives (Type I errors).\n",
    "\n"
   ]
  },
  {
   "cell_type": "raw",
   "id": "c22608d0-47fb-4950-974e-d4104249e15e",
   "metadata": {},
   "source": [
    "Question 6: Explain how variance is partitioned in ANOVA into between-group variance and within-group variance. How does this partitioning contribute to the calculation of the F-statistic?\n",
    "Ans -- In ANOVA, the total variance is divided into:\n",
    "\n",
    "-- Between-group variance: Variability due to the differences between the group means.\n",
    "-- Within-group variance: Variability within each group (random error).\n",
    "\n",
    "The F-statistic is calculated as the ratio of between-group variance to within-group variance. A large F-statistic indicates that the group means are more spread out than expected by chance, suggesting a significant difference between groups."
   ]
  },
  {
   "cell_type": "raw",
   "id": "28344775-9123-4ce6-8805-a485092dbf23",
   "metadata": {},
   "source": [
    "Question 7: Compare the classical (frequentist) approach to ANOVA with the Bayesian approach. What are the key differences in terms of how they handle uncertainty, parameter estimation, and hypothesis testing?\n",
    "-- Frequentist Approach (Classical ANOVA): Assumes fixed parameters and evaluates the likelihood of observing the data given a null hypothesis. It uses p-values to make decisions about rejecting the null hypothesis.\n",
    "\n",
    "-- Bayesian Approach: Assumes parameters have probability distributions and updates beliefs about these parameters using prior information and the observed data. It uses the posterior distribution to assess hypotheses.\n",
    "\n",
    "Key Differences:\n",
    "\n",
    "-- Uncertainty: The Bayesian approach explicitly incorporates uncertainty about parameters through priors, while the frequentist approach treats parameters as fixed.\n",
    "-- Parameter estimation: Bayesian methods estimate a full probability distribution for parameters, while frequentists provide point estimates.\n",
    "-- Hypothesis testing: Bayesian approaches use credibility intervals, while frequentists use p-values."
   ]
  },
  {
   "cell_type": "code",
   "execution_count": 1,
   "id": "c9ff9cd2-2e32-4eab-944d-684d0efdc6f4",
   "metadata": {},
   "outputs": [
    {
     "data": {
      "text/plain": [
       "(np.float64(2.089171974522293), np.float64(0.7534757004973305))"
      ]
     },
     "execution_count": 1,
     "metadata": {},
     "output_type": "execute_result"
    }
   ],
   "source": [
    "## Question 8: Perform an F-test to determine if the variances of two professions' incomes are equal.\n",
    "##Given data:\n",
    "\n",
    "## Profession A: [48, 52, 55, 60, 62]\n",
    "##Profession B: [45, 50, 55, 52, 47]\n",
    "## Here’s the Python code to calculate the F-statistic and p-value:\n",
    "\n",
    "import numpy as np\n",
    "import scipy.stats as stats\n",
    "\n",
    "# Data\n",
    "profession_A = [48, 52, 55, 60, 62]\n",
    "profession_B = [45, 50, 55, 52, 47]\n",
    "\n",
    "# Calculate variances\n",
    "var_A = np.var(profession_A, ddof=1)\n",
    "var_B = np.var(profession_B, ddof=1)\n",
    "\n",
    "# F-statistic\n",
    "F_statistic = var_A / var_B\n",
    "\n",
    "# Degrees of freedom\n",
    "df_A = len(profession_A) - 1\n",
    "df_B = len(profession_B) - 1\n",
    "\n",
    "# P-value\n",
    "p_value = stats.f.cdf(F_statistic, df_A, df_B)\n",
    "\n",
    "F_statistic, p_value\n"
   ]
  },
  {
   "cell_type": "code",
   "execution_count": 3,
   "id": "74697f75-7f09-4fc3-9436-9c6b35ebe14b",
   "metadata": {},
   "outputs": [
    {
     "name": "stdout",
     "output_type": "stream",
     "text": [
      "Requirement already satisfied: scipy in c:\\users\\shriy\\appdata\\local\\programs\\python\\python313\\lib\\site-packages (1.14.1)\n",
      "Requirement already satisfied: numpy<2.3,>=1.23.5 in c:\\users\\shriy\\appdata\\local\\programs\\python\\python313\\lib\\site-packages (from scipy) (2.1.2)\n",
      "Note: you may need to restart the kernel to use updated packages.\n"
     ]
    }
   ],
   "source": [
    "pip install scipy\n"
   ]
  },
  {
   "cell_type": "code",
   "execution_count": 3,
   "id": "b2d76c1d-d730-4a62-9eea-f9d361a4c914",
   "metadata": {},
   "outputs": [
    {
     "data": {
      "text/plain": [
       "(np.float64(67.87330316742101), np.float64(2.8706641879370266e-07))"
      ]
     },
     "execution_count": 3,
     "metadata": {},
     "output_type": "execute_result"
    }
   ],
   "source": [
    "\"\"\"Question 9: Conduct a one-way ANOVA to test whether there are any statistically significant differences in average heights between three different regions.\n",
    "Given data:\n",
    "•\tRegion A: [160, 162, 165, 158, 164]\n",
    "•\tRegion B: [172, 175, 170, 168, 174]\n",
    "•\tRegion C: [180, 182, 179, 185, 183]\n",
    "Here’s the Python code for one-way ANOVA:\"\"\"\n",
    "import scipy.stats as stats\n",
    "\n",
    "# Data\n",
    "region_A = [160, 162, 165, 158, 164]\n",
    "region_B = [172, 175, 170, 168, 174]\n",
    "region_C = [180, 182, 179, 185, 183]\n",
    "\n",
    "# One-way ANOVA\n",
    "F_statistic, p_value = stats.f_oneway(region_A, region_B, region_C)\n",
    "\n",
    "F_statistic, p_value\n",
    "## If the p-value is smaller than 0.05, it indicates a statistically significant difference between the average heights of the three regions.\n"
   ]
  }
 ],
 "metadata": {
  "kernelspec": {
   "display_name": "Python 3 (ipykernel)",
   "language": "python",
   "name": "python3"
  },
  "language_info": {
   "codemirror_mode": {
    "name": "ipython",
    "version": 3
   },
   "file_extension": ".py",
   "mimetype": "text/x-python",
   "name": "python",
   "nbconvert_exporter": "python",
   "pygments_lexer": "ipython3",
   "version": "3.13.0"
  }
 },
 "nbformat": 4,
 "nbformat_minor": 5
}
